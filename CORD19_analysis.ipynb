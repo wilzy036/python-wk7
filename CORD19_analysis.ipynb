{
 "cells": [
  {
   "cell_type": "code",
   "execution_count": null,
   "id": "259e16c4",
   "metadata": {
    "vscode": {
     "languageId": "plaintext"
    }
   },
   "outputs": [],
   "source": [
    "# Part 1: Data Loading & Exploration\n",
    "import pandas as pd\n",
    "import matplotlib.pyplot as plt\n",
    "import seaborn as sns\n",
    "from wordcloud import WordCloud\n",
    "\n",
    "# Load sample dataset\n",
    "df = pd.read_csv(\"metadata_sample.csv\")\n",
    "\n",
    "print(\"Shape:\", df.shape)\n",
    "print(df.info())\n",
    "print(df.head())\n",
    "\n",
    "# Check missing values\n",
    "print(df.isnull().sum().head(10))\n",
    "\n"
   ]
  },
  {
   "cell_type": "code",
   "execution_count": null,
   "id": "4e278693",
   "metadata": {
    "vscode": {
     "languageId": "plaintext"
    }
   },
   "outputs": [],
   "source": [
    "# Part 2: Data Cleaning & Preparation\n",
    "# Convert publish_time to datetime\n",
    "df['publish_time'] = pd.to_datetime(df['publish_time'], errors='coerce')\n",
    "df['year'] = df['publish_time'].dt.year\n",
    "\n",
    "# Abstract word count\n",
    "df['abstract_word_count'] = df['abstract'].fillna(\"\").apply(lambda x: len(x.split()))\n",
    "\n",
    "# Drop rows without title or publish_time\n",
    "df_clean = df.dropna(subset=['title', 'publish_time'])\n",
    "\n",
    "print(\"Cleaned dataset shape:\", df_clean.shape)"
   ]
  },
  {
   "cell_type": "code",
   "execution_count": null,
   "id": "1c421231",
   "metadata": {
    "vscode": {
     "languageId": "plaintext"
    }
   },
   "outputs": [],
   "source": [
    "# Part 3: Data Analysis & Visualization\n",
    "\n",
    "# 1. Publications per year\n",
    "year_counts = df_clean['year'].value_counts().sort_index()\n",
    "plt.bar(year_counts.index, year_counts.values)\n",
    "plt.title(\"Publications by Year\")\n",
    "plt.xlabel(\"Year\")\n",
    "plt.ylabel(\"Number of Papers\")\n",
    "plt.show()\n",
    "\n",
    "# 2. Top Journals\n",
    "top_journals = df_clean['journal'].value_counts().head(10)\n",
    "sns.barplot(y=top_journals.index, x=top_journals.values)\n",
    "plt.title(\"Top Journals Publishing COVID-19 Papers\")\n",
    "plt.show()\n",
    "\n",
    "# 3. Word Cloud (Titles)\n",
    "text = \" \".join(df_clean['title'].dropna())\n",
    "wordcloud = WordCloud(width=800, height=400, background_color=\"white\").generate(text)\n",
    "plt.imshow(wordcloud, interpolation='bilinear')\n",
    "plt.axis(\"off\")\n",
    "plt.show()"
   ]
  }
 ],
 "metadata": {
  "language_info": {
   "name": "python"
  }
 },
 "nbformat": 4,
 "nbformat_minor": 5
}
